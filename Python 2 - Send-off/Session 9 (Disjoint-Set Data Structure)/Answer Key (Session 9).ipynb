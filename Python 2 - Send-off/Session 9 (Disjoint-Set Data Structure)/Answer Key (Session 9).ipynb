{
  "nbformat": 4,
  "nbformat_minor": 0,
  "metadata": {
    "colab": {
      "name": "Answer Key (Session 9).ipynb",
      "provenance": []
    },
    "kernelspec": {
      "name": "python3",
      "display_name": "Python 3"
    },
    "language_info": {
      "name": "python"
    }
  },
  "cells": [
    {
      "cell_type": "markdown",
      "source": [
        "# Solutions to Session 9 Exercises\n",
        "\n",
        "\n",
        "**AIEP Send-off Python 2**\n",
        "\n",
        "***Mark Edward M. Gonzales***"
      ],
      "metadata": {
        "id": "9xCfqth5y1Bi"
      }
    },
    {
      "cell_type": "code",
      "source": [
        "from collections import defaultdict"
      ],
      "metadata": {
        "id": "IkHcEi6XLQ9Q"
      },
      "execution_count": 1,
      "outputs": []
    },
    {
      "cell_type": "code",
      "source": [
        "class DisjointSet:\n",
        "    def __init__(self, num_elements):\n",
        "        self.parent = [i for i in range(num_elements)]\n",
        "        self.size = [1 for _ in range(num_elements)]\n",
        "        self.rank = [0 for _ in range(num_elements)]\n",
        " \n",
        "    def find(self, element):\n",
        "        if self.parent[element] != element:\n",
        "            self.parent[element] = self.find(self.parent[element])\n",
        " \n",
        "        return self.parent[element]\n",
        " \n",
        "    def merge(self, element1, element2):\n",
        "        root1 = self.find(element1)\n",
        "        root2 = self.find(element2)\n",
        " \n",
        "        if root1 != root2:\n",
        "            if self.rank[root1] > self.rank[root2]:\n",
        "                self.parent[root2] = root1\n",
        "                self.size[root1] += self.size[root2]\n",
        "            else:\n",
        "                self.parent[root1] = root2\n",
        "                self.size[root2] += self.size[root1]\n",
        " \n",
        "                if self.rank[root1] == self.rank[root2]:\n",
        "                    self.rank[root2] += 1"
      ],
      "metadata": {
        "id": "iiNtx5D5y4eP"
      },
      "execution_count": 2,
      "outputs": []
    },
    {
      "cell_type": "markdown",
      "source": [
        "### Exercise 2\n",
        "[Network Connections](https://drive.google.com/file/d/1hEU5Njv26YofxJi4uvQl21hMhmNrrc9q/view)  (University of Valladolid [UVa] Online Judge 793)"
      ],
      "metadata": {
        "id": "mFpUziR2zEVB"
      }
    },
    {
      "cell_type": "code",
      "source": [
        "def network_connections(num_computers, logs):\n",
        "    network = DisjointSet(num_computers + 1)\n",
        "\n",
        "    num_success = 0\n",
        "    num_failure = 0\n",
        "    for statement in logs:\n",
        "        query = statement[0]\n",
        "        computer1 = statement[1]\n",
        "        computer2 = statement[2]\n",
        "\n",
        "        if query == 'c':\n",
        "            network.merge(computer1, computer2)\n",
        "        else:\n",
        "            if network.find(computer1) == network.find(computer2):\n",
        "                num_success += 1\n",
        "            else:\n",
        "                num_failure += 1\n",
        "\n",
        "    return num_success, num_failure\n",
        "\n",
        "network_connections(10, [('c', 1, 5), ('c', 2, 7), ('q', 7, 1), ('c', 3, 9), ('q', 9, 6), ('c', 2, 5), ('q', 7, 5)])\n",
        "network_connections(10, [('q', 1, 1), ('c', 1, 1), ('q', 1, 1)])"
      ],
      "metadata": {
        "colab": {
          "base_uri": "https://localhost:8080/"
        },
        "id": "IcKBlYoEzjC8",
        "outputId": "bac0b553-d43c-484c-f5ee-e511e0554096"
      },
      "execution_count": 3,
      "outputs": [
        {
          "output_type": "execute_result",
          "data": {
            "text/plain": [
              "(2, 0)"
            ]
          },
          "metadata": {},
          "execution_count": 3
        }
      ]
    },
    {
      "cell_type": "markdown",
      "source": [
        "### Exercise 3\n",
        "[Bridges and Tunnels](https://drive.google.com/file/d/1-z9lV1Chm-teI3shebPH-wWmFBHJfpuW/view)  (September 2011 University of Waterloo Programming Contest)"
      ],
      "metadata": {
        "id": "7hFtbnvn8vTk"
      }
    },
    {
      "cell_type": "code",
      "source": [
        "def bridges_and_tunnels(bridges):\n",
        "    campus = DisjointSet(200000)\n",
        "\n",
        "    buildings = {}\n",
        "    for bridge in bridges:\n",
        "        building1 = bridge[0]\n",
        "        building2 = bridge[1]\n",
        "\n",
        "        if building1 not in buildings:\n",
        "            buildings[building1] = len(buildings)\n",
        "        \n",
        "        if building2 not in buildings:\n",
        "            buildings[building2] = len(buildings)\n",
        "\n",
        "        campus.merge(buildings[building1], buildings[building2])\n",
        "\n",
        "        print(campus.size[campus.find(buildings[building1])])\n",
        "\n",
        "bridges_and_tunnels([('MC', 'DC'), ('DC', 'Eng'), ('MC', 'MThree')])"
      ],
      "metadata": {
        "colab": {
          "base_uri": "https://localhost:8080/"
        },
        "id": "iLeepD3O8_2x",
        "outputId": "d24606f7-1b6c-4614-bffb-e78d21d4d072"
      },
      "execution_count": 4,
      "outputs": [
        {
          "output_type": "stream",
          "name": "stdout",
          "text": [
            "2\n",
            "3\n",
            "4\n"
          ]
        }
      ]
    },
    {
      "cell_type": "markdown",
      "source": [
        "### Exercise 4\n",
        "[Association for Control Over Minds](https://drive.google.com/file/d/1LQ5MqwpXLRSjx9ZRKCImFbTVRuul59UW/view)  (2015 ACM ICPC Singapore Regional Contest)"
      ],
      "metadata": {
        "id": "zQLE5wKt_UQJ"
      }
    },
    {
      "cell_type": "code",
      "source": [
        "def association_for_control_over_minds(recipes):\n",
        "    cauldrons = DisjointSet(500000)\n",
        "    num_recipes = 0\n",
        "\n",
        "    for recipe in recipes:\n",
        "        candidate_cauldron_to_size = defaultdict(int)\n",
        "\n",
        "        for ingredient in recipe:\n",
        "            candidate_cauldron_to_size[cauldrons.find(ingredient)] += 1\n",
        "\n",
        "        can_concoct = True\n",
        "        for cauldron, size in candidate_cauldron_to_size.items():\n",
        "            if cauldrons.size[cauldron] != size:\n",
        "                can_concoct = False\n",
        "                break\n",
        "\n",
        "        if can_concoct:\n",
        "            num_recipes += 1\n",
        "\n",
        "            for i in range(len(recipe) - 1):\n",
        "                cauldrons.merge(recipe[i], recipe[i + 1])\n",
        "\n",
        "    return num_recipes        \n",
        "\n",
        "# The number of ingredients per recipe is not passed\n",
        "association_for_control_over_minds([(1, 2), (3, 4), (1, 5), (1, 2, 3, 4, 5), (1, 2)])\n",
        "association_for_control_over_minds([(1, 2), (1, ), (2, )])"
      ],
      "metadata": {
        "colab": {
          "base_uri": "https://localhost:8080/"
        },
        "id": "OX7WM5Dv_pCa",
        "outputId": "3756a6f7-f338-4948-dcd6-c40ec590a06b"
      },
      "execution_count": 5,
      "outputs": [
        {
          "output_type": "execute_result",
          "data": {
            "text/plain": [
              "1"
            ]
          },
          "metadata": {},
          "execution_count": 5
        }
      ]
    },
    {
      "cell_type": "markdown",
      "source": [
        "### Exercise 5\n",
        "[Almost Union-Find](https://drive.google.com/file/d/1BqwQIujvk7Dy9lcz3ne_pdKI9MZba1Jh/view) (Rujia Liu's Present 3: A Data Structure Contest Celebrating the 100th Anniversary of Tsinghua University)"
      ],
      "metadata": {
        "id": "2eH7aFZcMgWV"
      }
    },
    {
      "cell_type": "code",
      "source": [
        "class AlmostUnionFind:\n",
        "    def __init__(self, num_elements):\n",
        "        self.parent = [None] * 200000\n",
        "        self.sum = [None] * 200000\n",
        "        self.size = [None] * 200000\n",
        "\n",
        "        for i in range(1, num_elements + 1):\n",
        "            self.parent[i] = num_elements + i\n",
        "            self.parent[num_elements + i] = num_elements + i\n",
        "            self.sum[num_elements + i] = i\n",
        "            self.size[num_elements + i] = 1\n",
        "\n",
        "    def find(self, element):\n",
        "        if self.parent[element] != element:\n",
        "            self.parent[element] = self.find(self.parent[element])\n",
        " \n",
        "        return self.parent[element]\n",
        "\n",
        "    def merge(self, element1, element2):\n",
        "        root1 = self.find(element1)\n",
        "        root2 = self.find(element2)\n",
        " \n",
        "        if root1 != root2:\n",
        "            self.parent[root1] = root2\n",
        "\n",
        "            self.sum[root2] += self.sum[root1]\n",
        "            self.size[root2] += self.size[root1]\n",
        "\n",
        "    def move(self, element1, element2):\n",
        "        root1 = self.find(element1)\n",
        "        root2 = self.find(element2)\n",
        "\n",
        "        if root1 != root2:\n",
        "            self.parent[element1] = root2\n",
        "\n",
        "            self.sum[root2] += element1\n",
        "            self.sum[root1] -= element1\n",
        "\n",
        "            self.size[root2] += 1\n",
        "            self.size[root1] -= 1\n",
        "\n",
        "\n",
        "def almost_union_find(num_elements, commands):\n",
        "    data_structure = AlmostUnionFind(num_elements)\n",
        "\n",
        "    for command in commands:\n",
        "        action = command[0]\n",
        "        element1 = command[1]\n",
        "\n",
        "        if len(command) > 2:\n",
        "            element2 = command[2]\n",
        "\n",
        "        if action == 1:\n",
        "            data_structure.merge(element1, element2)\n",
        "        elif action == 2:\n",
        "            data_structure.move(element1, element2)\n",
        "        else:\n",
        "            print(data_structure.size[data_structure.find(element1)], \n",
        "                  data_structure.sum[data_structure.find(element1)])        \n",
        "\n",
        "almost_union_find(5, [(1, 1, 2), (2, 3, 4), (1, 3, 5), (3, 4), (2, 4, 1), (3, 4), (3, 3)])"
      ],
      "metadata": {
        "colab": {
          "base_uri": "https://localhost:8080/"
        },
        "id": "AnpQGnS6Mq7j",
        "outputId": "29aacf87-0c41-4f94-df52-d0a8595a1ae2"
      },
      "execution_count": 6,
      "outputs": [
        {
          "output_type": "stream",
          "name": "stdout",
          "text": [
            "3 12\n",
            "3 7\n",
            "2 8\n"
          ]
        }
      ]
    }
  ]
}