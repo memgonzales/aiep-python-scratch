{
  "nbformat": 4,
  "nbformat_minor": 0,
  "metadata": {
    "colab": {
      "name": "Answer Key (Session 10).ipynb",
      "provenance": []
    },
    "kernelspec": {
      "name": "python3",
      "display_name": "Python 3"
    },
    "language_info": {
      "name": "python"
    }
  },
  "cells": [
    {
      "cell_type": "markdown",
      "source": [
        "# Solutions to Session 10 Exercises\n",
        "**AIEP Send-off Python 2**\n",
        "\n",
        "***Mark Edward M. Gonzales***"
      ],
      "metadata": {
        "id": "fGDbf8EcwseV"
      }
    },
    {
      "cell_type": "code",
      "source": [
        "import itertools"
      ],
      "metadata": {
        "id": "3E_tt_TSwt5N"
      },
      "execution_count": 1,
      "outputs": []
    },
    {
      "cell_type": "markdown",
      "source": [
        "### A. Input Parsing"
      ],
      "metadata": {
        "id": "jQyoIKs2yrjl"
      }
    },
    {
      "cell_type": "code",
      "source": [
        "num_baskets, support_threshold, eval_threshold = input().split(',')\n",
        "num_baskets = int(num_baskets)\n",
        "support_threshold = int(support_threshold)\n",
        "eval_threshold = float(eval_threshold)"
      ],
      "metadata": {
        "colab": {
          "base_uri": "https://localhost:8080/"
        },
        "id": "WTjcH_R0w23y",
        "outputId": "522e2e8f-cbf5-4e87-d742-5a4a7c4e8cfe"
      },
      "execution_count": 2,
      "outputs": [
        {
          "name": "stdout",
          "output_type": "stream",
          "text": [
            "10,3,0.6\n"
          ]
        }
      ]
    },
    {
      "cell_type": "code",
      "source": [
        "baskets = []\n",
        "for _ in range(num_baskets):\n",
        "    baskets.append(input().split(','))"
      ],
      "metadata": {
        "colab": {
          "base_uri": "https://localhost:8080/"
        },
        "id": "vejeDdJfxUr-",
        "outputId": "0a1aa192-cae6-4e7d-93d5-223711dc7cd9"
      },
      "execution_count": 3,
      "outputs": [
        {
          "name": "stdout",
          "output_type": "stream",
          "text": [
            "lettuce,ham\n",
            "grapes,lettuce,ham\n",
            "cherry\n",
            "lettuce,ham,cheese\n",
            "grapes,lettuce\n",
            "grapes,lettuce,ham,cherry\n",
            "cheese\n",
            "grapes,lettuce,cherry\n",
            "ham,cheese\n",
            "grapes,lettuce,ham,cheese\n"
          ]
        }
      ]
    },
    {
      "cell_type": "code",
      "source": [
        "items = set()\n",
        "\n",
        "for basket in baskets:\n",
        "    for item in basket:\n",
        "        items.add(item)"
      ],
      "metadata": {
        "id": "HFWC7880yE1-"
      },
      "execution_count": 4,
      "outputs": []
    },
    {
      "cell_type": "code",
      "source": [
        "items = list(items)\n",
        "items"
      ],
      "metadata": {
        "colab": {
          "base_uri": "https://localhost:8080/"
        },
        "id": "6Y5w0aDoypjQ",
        "outputId": "1590974f-204a-4241-844b-951ac319f49b"
      },
      "execution_count": 5,
      "outputs": [
        {
          "output_type": "execute_result",
          "data": {
            "text/plain": [
              "['grapes', 'cheese', 'lettuce', 'cherry', 'ham']"
            ]
          },
          "metadata": {},
          "execution_count": 5
        }
      ]
    },
    {
      "cell_type": "code",
      "source": [
        "baskets"
      ],
      "metadata": {
        "colab": {
          "base_uri": "https://localhost:8080/"
        },
        "id": "GueSoDlOyvrk",
        "outputId": "9c92b25e-0d9d-413d-9db5-aa5fe93b7e20"
      },
      "execution_count": 6,
      "outputs": [
        {
          "output_type": "execute_result",
          "data": {
            "text/plain": [
              "[['lettuce', 'ham'],\n",
              " ['grapes', 'lettuce', 'ham'],\n",
              " ['cherry'],\n",
              " ['lettuce', 'ham', 'cheese'],\n",
              " ['grapes', 'lettuce'],\n",
              " ['grapes', 'lettuce', 'ham', 'cherry'],\n",
              " ['cheese'],\n",
              " ['grapes', 'lettuce', 'cherry'],\n",
              " ['ham', 'cheese'],\n",
              " ['grapes', 'lettuce', 'ham', 'cheese']]"
            ]
          },
          "metadata": {},
          "execution_count": 6
        }
      ]
    },
    {
      "cell_type": "markdown",
      "source": [
        "### B. Frequent Itemsets"
      ],
      "metadata": {
        "id": "VIAgnM0jyxhn"
      }
    },
    {
      "cell_type": "code",
      "source": [
        "def get_support(itemset, baskets):\n",
        "    ctr = 0\n",
        "    for basket in baskets:\n",
        "        if set(itemset).issubset(set(basket)):\n",
        "            ctr += 1\n",
        "\n",
        "    return ctr\n",
        "\n",
        "def get_subsets(itemset, size):\n",
        "    return list(itertools.combinations(itemset, size))"
      ],
      "metadata": {
        "id": "7kPCgqSo2V34"
      },
      "execution_count": 7,
      "outputs": []
    },
    {
      "cell_type": "code",
      "source": [
        "def get_frequent_itemsets(items, baskets, support_threshold):\n",
        "    master_set = set(items)\n",
        "    frequent_itemsets = []\n",
        "\n",
        "    new_frequent_found = True\n",
        "    size = 1\n",
        "\n",
        "    while new_frequent_found:\n",
        "        subsets = get_subsets(master_set, size)\n",
        "        master_set = set()\n",
        "\n",
        "        new_frequent_found = False\n",
        "        for itemset in subsets:\n",
        "            support = get_support(itemset, baskets)\n",
        "            if support >= support_threshold:\n",
        "                if len(itemset) > 1:\n",
        "                    frequent_itemsets.append((list(itemset), support))\n",
        "               \n",
        "                master_set = master_set.union(set(itemset))\n",
        "                new_frequent_found = True\n",
        "\n",
        "        size += 1\n",
        "\n",
        "    return sorted(frequent_itemsets, key = lambda x: x[1], reverse = True)\n",
        "\n",
        "get_frequent_itemsets(items, baskets, support_threshold)"
      ],
      "metadata": {
        "colab": {
          "base_uri": "https://localhost:8080/"
        },
        "id": "X86fmO2lzgT0",
        "outputId": "a4caa823-f3c5-41a8-f8ed-95202e51a5e4"
      },
      "execution_count": 8,
      "outputs": [
        {
          "output_type": "execute_result",
          "data": {
            "text/plain": [
              "[(['lettuce', 'grapes'], 5),\n",
              " (['lettuce', 'ham'], 5),\n",
              " (['cheese', 'ham'], 3),\n",
              " (['grapes', 'ham'], 3),\n",
              " (['lettuce', 'grapes', 'ham'], 3)]"
            ]
          },
          "metadata": {},
          "execution_count": 8
        }
      ]
    },
    {
      "cell_type": "markdown",
      "source": [
        "### C. Metrics"
      ],
      "metadata": {
        "id": "21M_yIFvA9GD"
      }
    },
    {
      "cell_type": "code",
      "source": [
        "def get_confidence(antecedent, consequent, baskets):\n",
        "    return get_support(list(set(antecedent).union(set(consequent))), baskets) / get_support(antecedent, baskets)\n",
        "\n",
        "def get_interest(antecedent, consequent, baskets):\n",
        "    return abs(get_confidence(antecedent, consequent, baskets) - get_support(consequent, baskets) / len(baskets))\n",
        "\n",
        "def get_lift(antecedent, consequent, baskets):\n",
        "    return get_confidence(antecedent, consequent, baskets) / (get_support(consequent, baskets) / len(baskets))\n",
        "\n",
        "def get_conviction(antecedent, consequent, baskets):\n",
        "    return (1 - get_support(consequent, baskets) / len(baskets)) / (1 - get_confidence(antecedent, consequent, baskets))\n",
        "\n",
        "get_confidence(['grapes', 'lettuce'], ['cherry'], baskets)\n",
        "get_interest(['grapes', 'lettuce'], ['cherry'], baskets)\n",
        "get_lift(['grapes', 'lettuce'], ['cherry'], baskets)\n",
        "get_conviction(['grapes', 'lettuce'], ['cherry'], baskets)"
      ],
      "metadata": {
        "colab": {
          "base_uri": "https://localhost:8080/"
        },
        "id": "XLpEZ0xSCnOP",
        "outputId": "0750fa7d-d132-47f0-d179-2e86d6e98270"
      },
      "execution_count": 9,
      "outputs": [
        {
          "output_type": "execute_result",
          "data": {
            "text/plain": [
              "1.1666666666666667"
            ]
          },
          "metadata": {},
          "execution_count": 9
        }
      ]
    },
    {
      "cell_type": "markdown",
      "source": [
        "### D. Association Rules"
      ],
      "metadata": {
        "id": "0SaSujV2IHKW"
      }
    },
    {
      "cell_type": "code",
      "source": [
        "def derive_rules(itemset):\n",
        "    rules = []\n",
        "    for size in range(1, len(itemset)):\n",
        "        subsets = get_subsets(itemset, size)\n",
        "        for antecedent in subsets:\n",
        "            rules.append((list(antecedent), list(set(itemset).difference(set(antecedent)))))\n",
        "\n",
        "    return rules\n",
        "\n",
        "def rule_to_string(rule):\n",
        "    antecedent = \", \".join(rule[0])\n",
        "    consequent = \", \".join(rule[1])\n",
        "\n",
        "    return f\"{{{antecedent}}} -> {{{consequent}}}\""
      ],
      "metadata": {
        "id": "4-oJ2TUPJMOS"
      },
      "execution_count": 10,
      "outputs": []
    },
    {
      "cell_type": "code",
      "source": [
        "def get_useful_association_rules(frequent_itemsets, baskets, eval_threshold, metric):\n",
        "    useful_association_rules = []\n",
        "\n",
        "    for itemset in frequent_itemsets:\n",
        "        rules = derive_rules(itemset[0])\n",
        "        for rule in rules:\n",
        "            if metric.lower() == 'confidence':\n",
        "                evaluation = get_confidence(rule[0], rule[1], baskets)\n",
        "            elif metric.lower() == 'interest':\n",
        "                evaluation = get_interest(rule[0], rule[1], baskets)\n",
        "            elif metric.lower() == 'lift':\n",
        "                evaluation = get_lift(rule[0], rule[1], baskets)\n",
        "            elif metric.lower() == 'conviction':\n",
        "                evaluation = get_conviction(rule[0], rule[1], baskets)\n",
        "            else:\n",
        "                raise Exception(\"Invalid metric\")\n",
        "\n",
        "            if evaluation >= eval_threshold:\n",
        "                useful_association_rules.append((rule_to_string(rule), evaluation))\n",
        "\n",
        "    return sorted(useful_association_rules, key = lambda x: x[1], reverse = True)\n",
        "\n",
        "get_useful_association_rules(get_frequent_itemsets(items, baskets, support_threshold), baskets, eval_threshold, \"confidence\")"
      ],
      "metadata": {
        "colab": {
          "base_uri": "https://localhost:8080/"
        },
        "id": "MP3tHWdVIKMl",
        "outputId": "e9809f5a-669f-4416-a06e-66d986c62b72"
      },
      "execution_count": 11,
      "outputs": [
        {
          "output_type": "execute_result",
          "data": {
            "text/plain": [
              "[('{grapes} -> {lettuce}', 1.0),\n",
              " ('{grapes, ham} -> {lettuce}', 1.0),\n",
              " ('{ham} -> {lettuce}', 0.8333333333333334),\n",
              " ('{cheese} -> {ham}', 0.75),\n",
              " ('{lettuce} -> {grapes}', 0.7142857142857143),\n",
              " ('{lettuce} -> {ham}', 0.7142857142857143),\n",
              " ('{grapes} -> {ham}', 0.6),\n",
              " ('{grapes} -> {lettuce, ham}', 0.6),\n",
              " ('{lettuce, grapes} -> {ham}', 0.6),\n",
              " ('{lettuce, ham} -> {grapes}', 0.6)]"
            ]
          },
          "metadata": {},
          "execution_count": 11
        }
      ]
    }
  ]
}