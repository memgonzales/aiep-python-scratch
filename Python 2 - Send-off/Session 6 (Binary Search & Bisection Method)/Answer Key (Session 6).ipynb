{
  "nbformat": 4,
  "nbformat_minor": 0,
  "metadata": {
    "colab": {
      "name": "Answer Key (Session 6).ipynb",
      "provenance": []
    },
    "kernelspec": {
      "name": "python3",
      "display_name": "Python 3"
    },
    "language_info": {
      "name": "python"
    }
  },
  "cells": [
    {
      "cell_type": "markdown",
      "source": [
        "# Solutions to Session 6 Exercises\n",
        "**AIEP Send-off Python 2**\n",
        "\n",
        "***Mark Edward M. Gonzales***"
      ],
      "metadata": {
        "id": "VaPaTVjNxcoX"
      }
    },
    {
      "cell_type": "code",
      "source": [
        "import math"
      ],
      "metadata": {
        "id": "b_ARnUqU2bgT"
      },
      "execution_count": 88,
      "outputs": []
    },
    {
      "cell_type": "code",
      "source": [
        "NOT_FOUND = -1"
      ],
      "metadata": {
        "id": "cf-cl5FCzNwu"
      },
      "execution_count": 89,
      "outputs": []
    },
    {
      "cell_type": "code",
      "source": [
        "def binary_search(arr, key):\n",
        "    low = 0\n",
        "    high = len(arr) - 1\n",
        "    \n",
        "    while low <= high:\n",
        "        mid = low + (high - low) // 2\n",
        "        if key < arr[mid]:\n",
        "            high = mid - 1\n",
        "        elif arr[mid] < key:\n",
        "            low = mid + 1\n",
        "        else:\n",
        "            return mid\n",
        "\n",
        "    return NOT_FOUND"
      ],
      "metadata": {
        "id": "sp4wBpSnzEKp"
      },
      "execution_count": 90,
      "outputs": []
    },
    {
      "cell_type": "code",
      "source": [
        "def lower_bound(arr, key):\n",
        "    low = 0\n",
        "    high = len(arr)\n",
        "\n",
        "    while low < high:\n",
        "        mid = low + (high - low) // 2\n",
        "        if key <= arr[mid]:\n",
        "            high = mid\n",
        "        else:\n",
        "            low = mid + 1\n",
        "\n",
        "    return low"
      ],
      "metadata": {
        "id": "IsSPrFz0w2Wr"
      },
      "execution_count": 91,
      "outputs": []
    },
    {
      "cell_type": "markdown",
      "source": [
        "### Exercise 1\n",
        "[Room Painting](https://drive.google.com/file/d/1D_OKvyJD8mpUouPyASSTC7Kmp7O2QHvt/view) (October 2012 University of Waterloo Programming Contest)"
      ],
      "metadata": {
        "id": "LwlAKl27urq3"
      }
    },
    {
      "cell_type": "code",
      "source": [
        "def room_painting(paint_cans, colors):\n",
        "    paint_cans.sort()\n",
        "\n",
        "    excess = 0\n",
        "    for color in colors:\n",
        "        smallest_can = lower_bound(paint_cans, color)\n",
        "        excess += paint_cans[smallest_can] - color\n",
        "\n",
        "    return excess\n",
        "\n",
        "room_painting([5, 7, 9], [6, 8])"
      ],
      "metadata": {
        "colab": {
          "base_uri": "https://localhost:8080/"
        },
        "id": "S54fvpa6uwqR",
        "outputId": "c897c198-78a2-47be-bfc8-f279e4096dad"
      },
      "execution_count": 92,
      "outputs": [
        {
          "output_type": "execute_result",
          "data": {
            "text/plain": [
              "2"
            ]
          },
          "metadata": {},
          "execution_count": 92
        }
      ]
    },
    {
      "cell_type": "markdown",
      "source": [
        "### Exercise 2\n",
        "[Exact Sum](https://drive.google.com/file/d/1ljapgMqm074At3dhP2l9ul5z_OLj6s4w/view) (UVa Online Judge 11057)"
      ],
      "metadata": {
        "id": "XzCm5G8-x7Ev"
      }
    },
    {
      "cell_type": "code",
      "source": [
        "def exact_sum(book_prices, money):\n",
        "    book_prices.sort()\n",
        "\n",
        "    addend = 0\n",
        "    for i in range(len(book_prices)):\n",
        "        if book_prices[i] > money // 2:\n",
        "            break\n",
        "        if binary_search(book_prices, money - book_prices[i]) != NOT_FOUND:\n",
        "            addend = book_prices[i]\n",
        "\n",
        "        i += 1\n",
        "\n",
        "    return f\"Peter should buy books {addend} and {money - addend}.\"\n",
        "\n",
        "exact_sum([40, 40], 80)\n",
        "exact_sum([10, 2, 6, 8, 4], 10)"
      ],
      "metadata": {
        "colab": {
          "base_uri": "https://localhost:8080/",
          "height": 35
        },
        "id": "7W449tSSx-D9",
        "outputId": "cb9ecc4c-92f7-4249-e4ba-8aba6e25dfde"
      },
      "execution_count": 93,
      "outputs": [
        {
          "output_type": "execute_result",
          "data": {
            "application/vnd.google.colaboratory.intrinsic+json": {
              "type": "string"
            },
            "text/plain": [
              "'Peter should buy books 4 and 6.'"
            ]
          },
          "metadata": {},
          "execution_count": 93
        }
      ]
    },
    {
      "cell_type": "markdown",
      "source": [
        "### Exercise 3\n",
        "[Out of Sorts](https://drive.google.com/file/d/1m3orV5iEmKuX9kdKbFUgk_NpRuxbT7b-/view) (2019 ICPC East-Central North America Regional Contest)"
      ],
      "metadata": {
        "id": "SuAmgEsJ2sGD"
      }
    },
    {
      "cell_type": "code",
      "source": [
        "def out_of_sorts(n, m, a, c, x0):\n",
        "    sequence = []\n",
        "    for _ in range(n):\n",
        "        x0 = (a * x0 + c) % m\n",
        "        sequence.append(x0)\n",
        "\n",
        "    ctr = 0\n",
        "    for term in sequence:\n",
        "        if binary_search(sequence, term) != NOT_FOUND:\n",
        "            ctr += 1\n",
        "\n",
        "    return ctr\n",
        "\n",
        "out_of_sorts(5, 8, 1, 3, 3)\n",
        "out_of_sorts(6, 10, 1234567891, 1, 1234567890)"
      ],
      "metadata": {
        "colab": {
          "base_uri": "https://localhost:8080/"
        },
        "id": "6uBRoL1W2uSs",
        "outputId": "3c664b62-cf38-496a-afd8-a3a86bcf2e6c"
      },
      "execution_count": 94,
      "outputs": [
        {
          "output_type": "execute_result",
          "data": {
            "text/plain": [
              "6"
            ]
          },
          "metadata": {},
          "execution_count": 94
        }
      ]
    },
    {
      "cell_type": "markdown",
      "source": [
        "### Exercise 4\n",
        "[The Stern-Brocot Number System](https://drive.google.com/file/d/1BNwPRJxInIX83Nxy42FTHRREHy7FMZ2o/view) (UVa Online Judge 10077)"
      ],
      "metadata": {
        "id": "cYrBAZVJ7ysh"
      }
    },
    {
      "cell_type": "code",
      "source": [
        "def stern_brocot(m, n):\n",
        "    left = [0, 1]\n",
        "    right = [1, 0]\n",
        "    mid = [1, 1]\n",
        "\n",
        "    directions = \"\"\n",
        "    while mid[0] != m or mid[1] != n:\n",
        "        if m * mid[1] < n * mid[0]:\n",
        "            right = mid\n",
        "            mid = [left[0] + mid[0], left[1] + mid[1]]\n",
        "            directions += 'L'\n",
        "        else:\n",
        "            left = mid\n",
        "            mid = [right[0] + mid[0], right[1] + mid[1]]\n",
        "            directions += 'R'\n",
        "\n",
        "    return directions\n",
        "\n",
        "stern_brocot(5, 7)\n",
        "stern_brocot(878, 323)"
      ],
      "metadata": {
        "colab": {
          "base_uri": "https://localhost:8080/",
          "height": 35
        },
        "id": "vmON8_LO7uxE",
        "outputId": "402b2727-d73b-48a9-ddd1-31988114e864"
      },
      "execution_count": 95,
      "outputs": [
        {
          "output_type": "execute_result",
          "data": {
            "application/vnd.google.colaboratory.intrinsic+json": {
              "type": "string"
            },
            "text/plain": [
              "'RRLRRLRLLLLRLRRR'"
            ]
          },
          "metadata": {},
          "execution_count": 95
        }
      ]
    },
    {
      "cell_type": "markdown",
      "source": [
        "### Exercise 5\n",
        "[Solve It](https://drive.google.com/file/d/1kzcNUWAo1TxrsD7-03FijjmjNGt4Z7Ff/view) (UVa Online Judge 10341)"
      ],
      "metadata": {
        "id": "B9D25RUnpyzj"
      }
    },
    {
      "cell_type": "code",
      "source": [
        "def eval(p, q, r, s, t, u, x):\n",
        "    return p * math.exp(-x) + q * math.sin(x) + r * math.cos(x) + s * math.tan(x) + t * x * x + u\n",
        "\n",
        "def solve_it(p, q, r, s, t, u):\n",
        "    EPSILON = 1e-9\n",
        "    ERROR = 1e-4\n",
        "    low = 0\n",
        "    high = 1\n",
        "    mid = 0\n",
        "\n",
        "    while high - low > EPSILON:\n",
        "        mid = (high + low) / 2\n",
        "        if eval(p, q, r, s, t, u, mid) < 0:\n",
        "            high = mid\n",
        "        else:\n",
        "            low = mid\n",
        "        \n",
        "    if abs(eval(p, q, r, s, t, u, mid)) > ERROR:\n",
        "        return \"No solution\"\n",
        "    \n",
        "    return mid\n",
        "\n",
        "solve_it(0, 0, 0, 0, -2, 1)\n",
        "solve_it(1, 0, 0, 0, -1, 2)\n",
        "solve_it(1, -1, 1, -1, -1, 1)"
      ],
      "metadata": {
        "colab": {
          "base_uri": "https://localhost:8080/"
        },
        "id": "TvVJsQFgqCPC",
        "outputId": "6088001f-6cfa-437b-c57c-6d1309939205"
      },
      "execution_count": 96,
      "outputs": [
        {
          "output_type": "execute_result",
          "data": {
            "text/plain": [
              "0.7553766844794154"
            ]
          },
          "metadata": {},
          "execution_count": 96
        }
      ]
    },
    {
      "cell_type": "markdown",
      "source": [
        "### Exercise 6\n",
        "[Electric Bill](https://drive.google.com/file/d/1jJflQC2FOpitFMnVrNhJoRkv_m2Ta0eD/view) (UVa Online Judge 12190)\n"
      ],
      "metadata": {
        "id": "oWnOVOIn9nf4"
      }
    },
    {
      "cell_type": "code",
      "source": [
        "def pay(consumption):\n",
        "    amount = 0\n",
        "    if consumption <= 100:\n",
        "        return consumption * 2\n",
        "\n",
        "    amount += 200\n",
        "    if consumption <= 10000:\n",
        "        return amount + (consumption - 100) * 3\n",
        "\n",
        "    amount += 29700\n",
        "    if consumption <= 1000000:\n",
        "        return amount + (consumption - 10000) * 5\n",
        "\n",
        "    amount += 4950000\n",
        "    return amount + (consumption - 1000000) * 7\n",
        "\n",
        "def electric_bill(A, B):\n",
        "    low = 0\n",
        "    high = A\n",
        "\n",
        "    while low <= high:\n",
        "        total_consumption = low + (high - low) // 2\n",
        "        bill = pay(total_consumption)\n",
        "        if bill == A:\n",
        "            break\n",
        "        elif A < bill:\n",
        "            high = total_consumption - 1\n",
        "        else:\n",
        "            low = total_consumption + 1\n",
        "\n",
        "    low = 0\n",
        "    high = total_consumption\n",
        "\n",
        "    while low <= high:\n",
        "        your_consumption = low + (high - low) // 2\n",
        "        your_bill = pay(your_consumption)\n",
        "        neighbor_bill = pay(total_consumption - your_consumption)\n",
        "\n",
        "        if neighbor_bill - your_bill == B:\n",
        "            return your_bill\n",
        "        if your_bill > neighbor_bill or neighbor_bill - your_bill < B:\n",
        "            high = your_consumption - 1\n",
        "        else:\n",
        "            low = your_consumption + 1\n",
        "\n",
        "electric_bill(1100, 300)\n",
        "electric_bill(35515, 27615)"
      ],
      "metadata": {
        "colab": {
          "base_uri": "https://localhost:8080/"
        },
        "id": "G1kR18ks9v0m",
        "outputId": "4e769d27-6f31-4eb2-f2f4-6b7e92d1e83e"
      },
      "execution_count": 97,
      "outputs": [
        {
          "output_type": "execute_result",
          "data": {
            "text/plain": [
              "2900"
            ]
          },
          "metadata": {},
          "execution_count": 97
        }
      ]
    },
    {
      "cell_type": "markdown",
      "source": [
        "### Exercise 7\n",
        "[Traveling Monk](https://drive.google.com/file/d/1hympBrsX3dIMwowihcqAlsEg-FeLp4WA/view) (2017 Virginia Tech High School Programming Contest)"
      ],
      "metadata": {
        "id": "KMYBlGdRHKBH"
      }
    },
    {
      "cell_type": "code",
      "source": [
        "HEIGHT_COMPONENT = 0\n",
        "TIME_COMPONENT = 1\n",
        "\n",
        "def height(path, time):\n",
        "    height = 0\n",
        "\n",
        "    for i in range(len(path)):\n",
        "        if time < path[i][TIME_COMPONENT]:\n",
        "            break\n",
        "\n",
        "        height += path[i][HEIGHT_COMPONENT]\n",
        "        time -= path[i][TIME_COMPONENT]\n",
        "\n",
        "    height += (path[i][HEIGHT_COMPONENT] / path[i][TIME_COMPONENT]) * time\n",
        "\n",
        "    return height\n",
        "\n",
        "def traveling_monk(ascent, descent):\n",
        "    total_time = 0\n",
        "    total_height = 0\n",
        "\n",
        "    for segment in descent:\n",
        "        total_height += segment[HEIGHT_COMPONENT]\n",
        "        total_time += segment[TIME_COMPONENT]\n",
        "\n",
        "    EPSILON = 1e-9\n",
        "    low = 0\n",
        "    high = total_time\n",
        "\n",
        "    while high - low > EPSILON:\n",
        "        mid = (low + high) / 2\n",
        "        if total_height - height(descent, mid) - height(ascent, mid) > 0:\n",
        "            low = mid\n",
        "        else:\n",
        "            high = mid\n",
        "    \n",
        "    return mid\n",
        "\n",
        "traveling_monk([(10, 11)], [(10, 10)])\n",
        "traveling_monk([(4, 2), (0, 3), (6, 3)], [(10, 7)])\n",
        "traveling_monk([(2, 3), (0, 5), (3, 1)], [(3, 4), (0, 2), (2, 2)])"
      ],
      "metadata": {
        "colab": {
          "base_uri": "https://localhost:8080/"
        },
        "id": "s3GSuptuHRfG",
        "outputId": "ce383ab8-e5cb-4f6e-dc92-4b63815627be"
      },
      "execution_count": 98,
      "outputs": [
        {
          "output_type": "execute_result",
          "data": {
            "text/plain": [
              "3.9999999990686774"
            ]
          },
          "metadata": {},
          "execution_count": 98
        }
      ]
    },
    {
      "cell_type": "markdown",
      "source": [
        "### Exercise 8\n",
        "[Leaps Tall Buildings](https://drive.google.com/file/d/1X3wuDzRN6sQWTRCx3m4ifXX0nBtcA780/view) (in a single bound) (UVa Online Judge 10372)"
      ],
      "metadata": {
        "id": "YE0NECd8P1ne"
      }
    },
    {
      "cell_type": "code",
      "source": [
        "a = 9.8\n",
        "\n",
        "def can_jump(heights, distances, vx, vy):\n",
        "    for i in range(1, len(heights)- 1):\n",
        "        time1 = distances[i - 1] / vx\n",
        "        time2 = distances[i] / vx\n",
        "        height1 = vy * time1 - 0.5 * a * time1 * time1\n",
        "        height2 = vy * time2 - 0.5 * a * time2 * time2\n",
        "        \n",
        "        if height1 < heights[i] or height2 < heights[i]:\n",
        "            return False\n",
        "\n",
        "    return True\n",
        "\n",
        "def leaps_tall_buildings(heights, distances):\n",
        "    for i in range(1, len(distances)):\n",
        "        distances[i] += distances[i -1]\n",
        "\n",
        "    EPSILON = 1e-9\n",
        "    low = 0\n",
        "    high = 90\n",
        "\n",
        "    while high - low > EPSILON:\n",
        "        mid = (low + high) / 2\n",
        "        angle = math.pi * mid / 180\n",
        "        velocity = math.sqrt(a * distances[-1] / math.sin(2 * angle))\n",
        "        vx = velocity * math.cos(angle)\n",
        "        vy = velocity * math.sin(angle)\n",
        "\n",
        "        if not can_jump(heights, distances, vx, vy):\n",
        "            low = mid\n",
        "        else:\n",
        "            high = mid\n",
        "\n",
        "    return mid, velocity\n",
        "\n",
        "leaps_tall_buildings([0, 10, 0], [5, 5, 5])\n",
        "leaps_tall_buildings([0, 20, 25, 10, 0], [10.5, 11.5, 10, 15, 7])"
      ],
      "metadata": {
        "colab": {
          "base_uri": "https://localhost:8080/"
        },
        "id": "Ivqzj6G4P_yF",
        "outputId": "1f00dc5c-0255-411c-c590-4e08c91f1bf4"
      },
      "execution_count": 99,
      "outputs": [
        {
          "output_type": "execute_result",
          "data": {
            "text/plain": [
              "(67.07568801888556, 27.158036055960547)"
            ]
          },
          "metadata": {},
          "execution_count": 99
        }
      ]
    }
  ]
}