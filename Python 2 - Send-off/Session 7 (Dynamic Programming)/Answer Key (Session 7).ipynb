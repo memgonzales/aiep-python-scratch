{
  "nbformat": 4,
  "nbformat_minor": 0,
  "metadata": {
    "colab": {
      "name": "Answer Key (Session 7).ipynb",
      "provenance": []
    },
    "kernelspec": {
      "name": "python3",
      "display_name": "Python 3"
    },
    "language_info": {
      "name": "python"
    }
  },
  "cells": [
    {
      "cell_type": "markdown",
      "source": [
        "# Solutions to Session 7 Exercises\n",
        "**AIEP Send-off Python 2**\n",
        "\n",
        "***Mark Edward M. Gonzales***"
      ],
      "metadata": {
        "id": "v8a07LfShaq0"
      }
    },
    {
      "cell_type": "code",
      "source": [
        "import math"
      ],
      "metadata": {
        "id": "w81Khsurirci"
      },
      "execution_count": 1,
      "outputs": []
    },
    {
      "cell_type": "code",
      "source": [
        "import sys\n",
        "sys.setrecursionlimit(1000000)"
      ],
      "metadata": {
        "id": "M3NupKo4jgpE"
      },
      "execution_count": 2,
      "outputs": []
    },
    {
      "cell_type": "markdown",
      "source": [
        "### Exercise 1\n",
        "[sqrt log sin](https://drive.google.com/file/d/1qwdbKZKklc1nC3aIrJx-rk54Lx0sY9s2/view) (University of Valladolid [UVa] Online Judge 11703)"
      ],
      "metadata": {
        "id": "sl-98VuVhi9L"
      }
    },
    {
      "cell_type": "code",
      "source": [
        "MAX_INPUT = int(1e6)\n",
        "memo = [-1 for _ in range(int(MAX_INPUT + 1))]\n",
        "\n",
        "def sqrt_log_sin(i):\n",
        "    if memo[i] == -1:\n",
        "        if i == 0:\n",
        "            answer = 1\n",
        "        else:\n",
        "            answer = ((sqrt_log_sin(int(math.floor(i - math.sqrt(i)))) % MAX_INPUT + \n",
        "                        sqrt_log_sin(int(math.floor(math.log(i)))) % MAX_INPUT + \n",
        "                        sqrt_log_sin(int(i * math.sin(i) ** 2)) % MAX_INPUT) % MAX_INPUT)\n",
        "        \n",
        "        memo[i] = answer\n",
        "\n",
        "    return memo[i]\n",
        "\n",
        "sqrt_log_sin(MAX_INPUT)"
      ],
      "metadata": {
        "colab": {
          "base_uri": "https://localhost:8080/"
        },
        "id": "c_9sOtBwhsaF",
        "outputId": "bef34974-88de-495b-b712-cdbcddb5a126"
      },
      "execution_count": 3,
      "outputs": [
        {
          "output_type": "execute_result",
          "data": {
            "text/plain": [
              "648345"
            ]
          },
          "metadata": {},
          "execution_count": 3
        }
      ]
    },
    {
      "cell_type": "markdown",
      "source": [
        "### Exercise 2\n",
        "Combination &mdash; *Refer to handout*"
      ],
      "metadata": {
        "id": "0euz-KjBnXCO"
      }
    },
    {
      "cell_type": "code",
      "source": [
        "MAX_INPUT = 200         # Dummy value only\n",
        "memo = [[-1 for i in range(MAX_INPUT + 1)] for j in range(MAX_INPUT + 1)]\n",
        "\n",
        "def combination(n, r):\n",
        "    if memo[n][r] == -1:\n",
        "        if r == 0 or n == r:\n",
        "            answer = 1\n",
        "        else:\n",
        "            answer = combination(n - 1, r - 1) + combination(n - 1, r)\n",
        "\n",
        "        memo[n][r] = answer\n",
        "\n",
        "    return memo[n][r]\n",
        "\n",
        "combination(6, 4)"
      ],
      "metadata": {
        "colab": {
          "base_uri": "https://localhost:8080/"
        },
        "id": "MuO1zog2nc4u",
        "outputId": "25151cea-c4fb-4a05-b870-633c09466159"
      },
      "execution_count": 4,
      "outputs": [
        {
          "output_type": "execute_result",
          "data": {
            "text/plain": [
              "15"
            ]
          },
          "metadata": {},
          "execution_count": 4
        }
      ]
    },
    {
      "cell_type": "markdown",
      "source": [
        "### Exercise 3\n",
        "[How do you add?](https://drive.google.com/file/d/1SdhMEAOi9CUO29P-n76ykUm0m0-FI0qT/view) (UVa Online Judge 10943)"
      ],
      "metadata": {
        "id": "tz0tyy-DpgJM"
      }
    },
    {
      "cell_type": "code",
      "source": [
        "MOD = int(1e6)\n",
        "\n",
        "MAX_INPUT = 200\n",
        "memo = [[-1 for i in range(MAX_INPUT + 1)] for j in range(MAX_INPUT + 1)]\n",
        "\n",
        "def combination_with_mod(n, r):\n",
        "    if memo[n][r] == -1:\n",
        "        if r == 0 or n == r:\n",
        "            answer = 1\n",
        "        else:\n",
        "            answer = (combination(n - 1, r - 1) % MOD + combination(n - 1, r) % MOD) % MOD\n",
        "\n",
        "        memo[n][r] = answer\n",
        "\n",
        "    return memo[n][r]\n",
        "\n",
        "def how_do_you_add(N, K):\n",
        "    return combination_with_mod(N + K - 1,  K - 1)\n",
        "\n",
        "how_do_you_add(20, 2)\n",
        "how_do_you_add(100, 100)"
      ],
      "metadata": {
        "colab": {
          "base_uri": "https://localhost:8080/"
        },
        "id": "ZrVYNZ18pl_y",
        "outputId": "445086b7-5f82-440b-d072-22d5e6995385"
      },
      "execution_count": 5,
      "outputs": [
        {
          "output_type": "execute_result",
          "data": {
            "text/plain": [
              "420660"
            ]
          },
          "metadata": {},
          "execution_count": 5
        }
      ]
    },
    {
      "cell_type": "markdown",
      "source": [
        "### Exercise 4\n",
        "Vitas Words (Adapted from the 21<sup>st</sup> Philippine Mathematical Olympiad Area Stage) &mdash; *Refer to handout*"
      ],
      "metadata": {
        "id": "_XBW-08Mr-7W"
      }
    },
    {
      "cell_type": "code",
      "source": [
        "B = 0\n",
        "L = 1\n",
        "R = 2\n",
        "\n",
        "MAX_INPUT = 200         # Dummy value only\n",
        "memo = [[-1 for i in range(MAX_INPUT + 1)] for j in range(3)]\n",
        "\n",
        "def vitas_words(last_letter, length):\n",
        "    if memo[last_letter][length] == -1:\n",
        "        if last_letter == B and length == 3:\n",
        "            answer = 2\n",
        "        elif (last_letter == L and length == 3) or (last_letter == R and length == 3):\n",
        "            answer = 1\n",
        "        elif last_letter == B:\n",
        "            answer = vitas_words(L, length - 1) + vitas_words(R, length - 1)\n",
        "        elif last_letter == L:\n",
        "            answer = vitas_words(B, length - 1) + vitas_words(R, length - 1)\n",
        "        else:\n",
        "            answer = vitas_words(B, length - 1) + vitas_words(L, length - 1)\n",
        "\n",
        "        memo[last_letter][length] = answer\n",
        "\n",
        "    return memo[last_letter][length]\n",
        "\n",
        "vitas_words(L, 11)"
      ],
      "metadata": {
        "colab": {
          "base_uri": "https://localhost:8080/"
        },
        "id": "OWm8LwQ5sb7J",
        "outputId": "09ee0fae-e0b8-4707-b371-90254fe19c9b"
      },
      "execution_count": 6,
      "outputs": [
        {
          "output_type": "execute_result",
          "data": {
            "text/plain": [
              "341"
            ]
          },
          "metadata": {},
          "execution_count": 6
        }
      ]
    },
    {
      "cell_type": "markdown",
      "source": [
        "### Exercise 5\n",
        "Dyck Words &mdash; *Refer to handout*"
      ],
      "metadata": {
        "id": "BvZS9tvxuirr"
      }
    },
    {
      "cell_type": "code",
      "source": [
        "MAX_INPUT = 200         # Dummy value only\n",
        "memo = [[-1 for i in range(MAX_INPUT + 1)] for j in range(MAX_INPUT + 1)]\n",
        "\n",
        "def combination(n, r):\n",
        "    if memo[n][r] == -1:\n",
        "        if r == 0 or n == r:\n",
        "            answer = 1\n",
        "        else:\n",
        "            answer = combination(n - 1, r - 1) + combination(n - 1, r)\n",
        "\n",
        "        memo[n][r] = answer\n",
        "\n",
        "    return memo[n][r]\n",
        "\n",
        "def dyck_words(length):\n",
        "    if length % 2 == 0:\n",
        "        return combination(length, length // 2) // (length // 2 + 1)\n",
        "    else:\n",
        "        return 0\n",
        "\n",
        "dyck_words(8)"
      ],
      "metadata": {
        "colab": {
          "base_uri": "https://localhost:8080/"
        },
        "id": "md-b8ePcunVH",
        "outputId": "a2044da7-af87-45eb-c017-fdbe7d911803"
      },
      "execution_count": 7,
      "outputs": [
        {
          "output_type": "execute_result",
          "data": {
            "text/plain": [
              "14"
            ]
          },
          "metadata": {},
          "execution_count": 7
        }
      ]
    },
    {
      "cell_type": "markdown",
      "source": [
        "### Exercise 6\n",
        "[The jackpot](https://drive.google.com/file/d/16DqPzPqRyStRgkrqzoC1IRm5jDyobrZV/view) (UVa Online Judge 10684)"
      ],
      "metadata": {
        "id": "lSbWyXapvjJL"
      }
    },
    {
      "cell_type": "code",
      "source": [
        "def the_jackpot(bets):\n",
        "    max_gain = float('-inf')\n",
        "    current_gain = 0\n",
        "    \n",
        "    for bet in bets:\n",
        "        current_gain = max(bet, current_gain + bet)\n",
        "        max_gain = max(max_gain, current_gain)\n",
        "\n",
        "    if max_gain < 0:\n",
        "        return \"Losing streak\"\n",
        "\n",
        "    return f\"The maximum winning streak is {max_gain}\" \n",
        "\n",
        "the_jackpot([12, -4, -10, 4, 9])\n",
        "the_jackpot([-2, -1, -2])"
      ],
      "metadata": {
        "colab": {
          "base_uri": "https://localhost:8080/",
          "height": 35
        },
        "id": "-RPl6zsTvqm-",
        "outputId": "b1c66bc5-5c86-44d5-88f8-1f9158cc475f"
      },
      "execution_count": 8,
      "outputs": [
        {
          "output_type": "execute_result",
          "data": {
            "text/plain": [
              "'Losing streak'"
            ],
            "application/vnd.google.colaboratory.intrinsic+json": {
              "type": "string"
            }
          },
          "metadata": {},
          "execution_count": 8
        }
      ]
    },
    {
      "cell_type": "markdown",
      "source": [
        "### Exercise 7\n",
        "[Longest Increasing Subsequence](https://leetcode.com/problems/longest-increasing-subsequence/) (Classic/Leetcode 300)"
      ],
      "metadata": {
        "id": "yTvIQqewyjj7"
      }
    },
    {
      "cell_type": "code",
      "source": [
        "MAX_INPUT = 2500\n",
        "\n",
        "def longest_increasing_subsequence(sequence):\n",
        "    dp = [1 for _ in range(MAX_INPUT + 1)]\n",
        "\n",
        "    for i in range(len(sequence)):\n",
        "        for j in range(i):\n",
        "            if sequence[i] > sequence[j]:\n",
        "                dp[i] = max(dp[i], dp[j] + 1)\n",
        "\n",
        "    return max(dp)\n",
        "    \n",
        "longest_increasing_subsequence([10, 9, 2, 5, 3, 7, 101, 18])\n",
        "longest_increasing_subsequence([0, 1, 0, 3, 2, 3])\n",
        "longest_increasing_subsequence([7, 7, 7, 7, 7, 7, 7])"
      ],
      "metadata": {
        "colab": {
          "base_uri": "https://localhost:8080/"
        },
        "id": "BLstJ5Uvyp8s",
        "outputId": "0dec6438-0080-406c-d34b-9cca8993177a"
      },
      "execution_count": 9,
      "outputs": [
        {
          "output_type": "execute_result",
          "data": {
            "text/plain": [
              "1"
            ]
          },
          "metadata": {},
          "execution_count": 9
        }
      ]
    }
  ]
}