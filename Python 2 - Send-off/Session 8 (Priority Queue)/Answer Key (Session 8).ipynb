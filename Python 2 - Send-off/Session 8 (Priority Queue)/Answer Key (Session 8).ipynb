{
  "nbformat": 4,
  "nbformat_minor": 0,
  "metadata": {
    "colab": {
      "name": "Answer Key (Session 8).ipynb",
      "provenance": []
    },
    "kernelspec": {
      "name": "python3",
      "display_name": "Python 3"
    },
    "language_info": {
      "name": "python"
    }
  },
  "cells": [
    {
      "cell_type": "markdown",
      "source": [
        "# Solutions to Session 8 Exercises\n",
        "**AIEP Send-off Python 2**\n",
        "\n",
        "***Mark Edward M. Gonzales***"
      ],
      "metadata": {
        "id": "mH85wgfJv6Ng"
      }
    },
    {
      "cell_type": "code",
      "source": [
        "import heapq\n",
        "from collections import deque"
      ],
      "metadata": {
        "id": "W8CTU7wIwfJ2"
      },
      "execution_count": 35,
      "outputs": []
    },
    {
      "cell_type": "markdown",
      "source": [
        "### Exercise 2\n",
        "[Add All](https://drive.google.com/file/d/1Ogr28YtuKD-S_jldjiPrCiKCI0dwhmgD/view) (University of Valladolid [UVa] Online Judge 10954)"
      ],
      "metadata": {
        "id": "6m_jZBbewHGH"
      }
    },
    {
      "cell_type": "code",
      "source": [
        "def add_all(addends):\n",
        "    heapq.heapify(addends)\n",
        "\n",
        "    min_cost = 0\n",
        "    while len(addends) >= 2:\n",
        "        addend1 = heapq.heappop(addends)\n",
        "        addend2 = heapq.heappop(addends)\n",
        "\n",
        "        total = addend1 + addend2\n",
        "        heapq.heappush(addends, total)\n",
        "\n",
        "        min_cost += total\n",
        "\n",
        "    return min_cost\n",
        "\n",
        "add_all([1, 2, 3])\n",
        "add_all([1, 2, 3, 4])"
      ],
      "metadata": {
        "colab": {
          "base_uri": "https://localhost:8080/"
        },
        "id": "m7q7pf3VwTah",
        "outputId": "1d0fb1ae-8e91-4355-d192-15414fbffdb4"
      },
      "execution_count": 36,
      "outputs": [
        {
          "output_type": "execute_result",
          "data": {
            "text/plain": [
              "19"
            ]
          },
          "metadata": {},
          "execution_count": 36
        }
      ]
    },
    {
      "cell_type": "markdown",
      "source": [
        "### Exercise 3\n",
        "[Keep the Customer Satisfied](https://drive.google.com/file/d/1CyBIvt9T6RXACgjGeUH0B9q9nIVvZpO8/view) (University of Valladolid [UVa] Online Judge 10954)"
      ],
      "metadata": {
        "id": "YW_r63a3xePH"
      }
    },
    {
      "cell_type": "code",
      "source": [
        "AMOUNT_STEEL = 0\n",
        "DUE_DATE = 1\n",
        "\n",
        "def keep_the_customer_satisfied(amount_steel_due_date):\n",
        "    amount_steel_due_date.sort(key = lambda x: x[1])\n",
        "    time_pq = []\n",
        "\n",
        "    time = 0\n",
        "    for i in range(len(amount_steel_due_date)):\n",
        "        order = amount_steel_due_date[i]\n",
        "        heapq.heappush(time_pq, -1 * order[AMOUNT_STEEL])\n",
        "\n",
        "        time += order[AMOUNT_STEEL]\n",
        "        if time > order[DUE_DATE]:\n",
        "            time -= -1 * heapq.heappop(time_pq)\n",
        "\n",
        "    return len(time_pq)\n",
        "\n",
        "keep_the_customer_satisfied([(7, 15), (8, 20), (6, 8), (4, 9), (3, 21), (5, 22)])"
      ],
      "metadata": {
        "colab": {
          "base_uri": "https://localhost:8080/"
        },
        "id": "WY4p1vtdxpZy",
        "outputId": "a28021b1-edf0-42b0-ffb4-8c4ffd32c86b"
      },
      "execution_count": 37,
      "outputs": [
        {
          "output_type": "execute_result",
          "data": {
            "text/plain": [
              "4"
            ]
          },
          "metadata": {},
          "execution_count": 37
        }
      ]
    },
    {
      "cell_type": "markdown",
      "source": [
        "### Exercise 4\n",
        "[Jane Eyre](https://drive.google.com/file/d/1GV82Fq41Uq-s5WwTBJ_CS8U6yonN2FAh/view) (Bergen Open 2019)"
      ],
      "metadata": {
        "id": "isR3yQ864oV0"
      }
    },
    {
      "cell_type": "code",
      "source": [
        "TIME_RECEIVED = 0\n",
        "TITLE = 1\n",
        "NUM_PAGES = 2\n",
        "\n",
        "def jane_eyre(num_pages_jane_eyre, unread_books, books_from_friends):\n",
        "    heapq.heapify(unread_books)\n",
        "    books_from_friends.sort()\n",
        "\n",
        "    heapq.heappush(unread_books, (\"Jane Eyre\", num_pages_jane_eyre))\n",
        "\n",
        "    time = 0\n",
        "    ptr = 0\n",
        "    title = \"\"\n",
        "    \n",
        "    while title != \"Jane Eyre\":\n",
        "        while ptr < len(books_from_friends) and books_from_friends[ptr][TIME_RECEIVED] <= time:\n",
        "            book_from_friend = books_from_friends[ptr]\n",
        "            heapq.heappush(unread_books, (book_from_friend[TITLE], book_from_friend[NUM_PAGES]))\n",
        "            ptr += 1\n",
        "\n",
        "        title, num_pages = heapq.heappop(unread_books)\n",
        "        time += num_pages\n",
        "\n",
        "    return time\n",
        "\n",
        "jane_eyre(592, [(\"Pride and Prejudice\", 432), (\"Don Quixote\", 863)], [(863, \"Great Gatsby\", 218), (1082, \"Crime and Punishment\", 545)])"
      ],
      "metadata": {
        "colab": {
          "base_uri": "https://localhost:8080/"
        },
        "id": "hjjgEEZe40-M",
        "outputId": "e50b66c0-aea4-4be8-97bb-ebe7ca8392cf"
      },
      "execution_count": 38,
      "outputs": [
        {
          "output_type": "execute_result",
          "data": {
            "text/plain": [
              "1673"
            ]
          },
          "metadata": {},
          "execution_count": 38
        }
      ]
    },
    {
      "cell_type": "markdown",
      "source": [
        "### Exercise 5\n",
        "[I Can Guess the Data Structure!](https://drive.google.com/file/d/1j3loUnOTZzM2vE1F2dqiY4O2FoM0-Q2E/view) (Rujia Liu's Present 3: A Data Structure Contest\n",
        "Celebrating the 100\n",
        "th Anniversary of Tsinghua University)"
      ],
      "metadata": {
        "id": "Fu33MSNv44ua"
      }
    },
    {
      "cell_type": "code",
      "source": [
        "COMMAND = 0\n",
        "VALUE = 1\n",
        "\n",
        "def i_can_guess_the_data_structure(command_value):\n",
        "    is_stack = True\n",
        "    is_queue = True\n",
        "    is_pq = True\n",
        "\n",
        "    stack = []\n",
        "    queue = deque()\n",
        "    pq = []\n",
        "\n",
        "    for i in range(len(command_value)):\n",
        "        command = command_value[i][COMMAND]\n",
        "        value = command_value[i][VALUE]\n",
        "\n",
        "        if command == 1:\n",
        "            if is_stack:\n",
        "                stack.append(value)\n",
        "            if is_queue:\n",
        "                queue.appendleft(value)\n",
        "            if is_pq:\n",
        "                heapq.heappush(pq, -1 * value)\n",
        "\n",
        "        else:\n",
        "            if is_stack and (not stack or stack.pop() != value):\n",
        "                is_stack = False\n",
        "            if is_queue and (not queue or queue.pop() != value):\n",
        "                is_queue = False\n",
        "            if is_pq and (not pq or heapq.heappop(pq) != -1 * value):\n",
        "                is_pq = False\n",
        "\n",
        "    if is_stack and not is_queue and not is_pq:\n",
        "        return \"stack\"\n",
        "    if not is_stack and is_queue and not is_pq:\n",
        "        return \"queue\"\n",
        "    if not is_stack and not is_queue and is_pq:\n",
        "        return \"priority queue\"\n",
        "    if not is_stack and not is_queue and not is_pq:\n",
        "        return \"impossible\"\n",
        "    \n",
        "    return \"not sure\"\n",
        "\n",
        "i_can_guess_the_data_structure([(1, 1), (1, 2), (1, 3), (2, 1), (2, 2), (2, 3)])"
      ],
      "metadata": {
        "colab": {
          "base_uri": "https://localhost:8080/",
          "height": 35
        },
        "id": "Rn67ra0h5A2z",
        "outputId": "8acbe1ea-02f9-4cb0-95b4-0c20b9f574eb"
      },
      "execution_count": 39,
      "outputs": [
        {
          "output_type": "execute_result",
          "data": {
            "text/plain": [
              "'queue'"
            ],
            "application/vnd.google.colaboratory.intrinsic+json": {
              "type": "string"
            }
          },
          "metadata": {},
          "execution_count": 39
        }
      ]
    }
  ]
}